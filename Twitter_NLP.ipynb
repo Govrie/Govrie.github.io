{
  "nbformat": 4,
  "nbformat_minor": 0,
  "metadata": {
    "colab": {
      "name": "Twitter_NLP.ipynb",
      "provenance": [],
      "include_colab_link": true
    },
    "kernelspec": {
      "name": "python3",
      "display_name": "Python 3"
    }
  },
  "cells": [
    {
      "cell_type": "markdown",
      "metadata": {
        "id": "view-in-github",
        "colab_type": "text"
      },
      "source": [
        "<a href=\"https://colab.research.google.com/github/Govrie/Govrie.github.io/blob/master/Twitter_NLP.ipynb\" target=\"_parent\"><img src=\"https://colab.research.google.com/assets/colab-badge.svg\" alt=\"Open In Colab\"/></a>"
      ]
    },
    {
      "cell_type": "code",
      "metadata": {
        "id": "MBlgd7pm9McL"
      },
      "source": [
        "# Description : This is a sentiment analysis program that parses the tweets fetched from Twitter using Python"
      ],
      "execution_count": null,
      "outputs": []
    },
    {
      "cell_type": "code",
      "metadata": {
        "id": "nqu4pI_9VZgo"
      },
      "source": [
        "# Import the libraries\n",
        "import tweepy\n",
        "from textblob import TextBlob\n",
        "from wordcloud import WordCloud\n",
        "import pandas as pd\n",
        "import numpy as np\n",
        "import re\n",
        "import matplotlib.pyplot as plt\n",
        "\n"
      ],
      "execution_count": 38,
      "outputs": []
    },
    {
      "cell_type": "code",
      "metadata": {
        "id": "7enQsuIydbLL"
      },
      "source": [
        "# Twitter Api Credentials\n",
        "consumerKey = \"wuUNfWouFtimj5l5PUk0uYcMu\"\n",
        "consumerSecret = \"we9LySp1FKVY9QBcPjlf9W2PL4abUS7M1tW44KkIO3m2ebFkuy\"\n",
        "accessToken = \"168671451-qpOiCpxSlxwGzHhn4afsQELIPcP4p8p2thL6k0xL\"\n",
        "accessTokenSecret = \"9CINzaz7MAq8XXxZQ49gksmCr8ttnTCG0cWaYgQ6MJBUd\""
      ],
      "execution_count": 39,
      "outputs": []
    },
    {
      "cell_type": "code",
      "metadata": {
        "id": "FkM0ingu_Nrs"
      },
      "source": [
        "# Create the authentication object\n",
        "authenticate = tweepy.OAuthHandler(consumerKey, consumerSecret) \n",
        "    \n",
        "# Set the access token and access token secret\n",
        "authenticate.set_access_token(accessToken, accessTokenSecret) \n",
        "    \n",
        "# Creating the API object while passing in auth information\n",
        "api = tweepy.API(authenticate, wait_on_rate_limit = True)"
      ],
      "execution_count": 40,
      "outputs": []
    },
    {
      "cell_type": "code",
      "metadata": {
        "id": "VnhiHIYZdpNR",
        "colab": {
          "base_uri": "https://localhost:8080/"
        },
        "outputId": "51dc5f1a-0672-44a1-cbd2-55ee8ecf31e5"
      },
      "source": [
        "# Extract 100 tweets from the twitter user\n",
        "posts = api.user_timeline(screen_name=\"BillGates\", count = 100, lang =\"en\", tweet_mode=\"extended\")\n",
        "\n",
        "#  Print the last 5 tweets\n",
        "print(\"Show the 5 recent tweets:\\n\")\n",
        "i=1\n",
        "for tweet in posts[:5]:\n",
        "    print(str(i) +') '+ tweet.full_text + '\\n')\n",
        "    i= i+1"
      ],
      "execution_count": 97,
      "outputs": [
        {
          "output_type": "stream",
          "text": [
            "Show the 5 recent tweets:\n",
            "\n",
            "1) RT @WHO: The @ACTAccelerator, an unprecedented global alliance to develop &amp; deliver the tests, treatments &amp; vaccines the 🌐 needs to fight #…\n",
            "\n",
            "2) I was honored to speak at today’s #LeadersClimateSummit about the three things we need to do to avoid a climate disaster. https://t.co/0YJJyabeIn\n",
            "\n",
            "3) Ambitious short-term goals like this are critical to moving closer to a net-zero future. As we rapidly scale the solutions we have, we must also invest in innovation to reach our ultimate goals. Thank you @POTUS for your leadership. https://t.co/SVeKp1KPHT\n",
            "\n",
            "4) It’s encouraging to see @POTUS Biden and @ClimateEnvoy Kerry re-establish America’s leading role on climate change. I look forward to joining leaders from around the world to talk about some of the most important challenges we need to overcome to avoid a climate disaster. https://t.co/a9CXZzIg6Y\n",
            "\n",
            "5) Yesterday's verdict was a step in the right direction. But one court ruling alone will not bring to an end the injustice and inequity that Black people experience daily.  I hope we will continue to make real progress on this.\n",
            "\n"
          ],
          "name": "stdout"
        }
      ]
    },
    {
      "cell_type": "code",
      "metadata": {
        "id": "DT4M-VIBdq3w",
        "colab": {
          "base_uri": "https://localhost:8080/",
          "height": 204
        },
        "outputId": "497debbe-eb7d-49f3-e3a6-f4af47317318"
      },
      "source": [
        "# Create a dataframe with a column called Tweets\n",
        "df = pd.DataFrame([tweet.full_text for tweet in posts], columns=['Tweets'])\n",
        "# Show the first 5 rows of data\n",
        "df.head()"
      ],
      "execution_count": 98,
      "outputs": [
        {
          "output_type": "execute_result",
          "data": {
            "text/html": [
              "<div>\n",
              "<style scoped>\n",
              "    .dataframe tbody tr th:only-of-type {\n",
              "        vertical-align: middle;\n",
              "    }\n",
              "\n",
              "    .dataframe tbody tr th {\n",
              "        vertical-align: top;\n",
              "    }\n",
              "\n",
              "    .dataframe thead th {\n",
              "        text-align: right;\n",
              "    }\n",
              "</style>\n",
              "<table border=\"1\" class=\"dataframe\">\n",
              "  <thead>\n",
              "    <tr style=\"text-align: right;\">\n",
              "      <th></th>\n",
              "      <th>Tweets</th>\n",
              "    </tr>\n",
              "  </thead>\n",
              "  <tbody>\n",
              "    <tr>\n",
              "      <th>0</th>\n",
              "      <td>RT @WHO: The @ACTAccelerator, an unprecedented...</td>\n",
              "    </tr>\n",
              "    <tr>\n",
              "      <th>1</th>\n",
              "      <td>I was honored to speak at today’s #LeadersClim...</td>\n",
              "    </tr>\n",
              "    <tr>\n",
              "      <th>2</th>\n",
              "      <td>Ambitious short-term goals like this are criti...</td>\n",
              "    </tr>\n",
              "    <tr>\n",
              "      <th>3</th>\n",
              "      <td>It’s encouraging to see @POTUS Biden and @Clim...</td>\n",
              "    </tr>\n",
              "    <tr>\n",
              "      <th>4</th>\n",
              "      <td>Yesterday's verdict was a step in the right di...</td>\n",
              "    </tr>\n",
              "  </tbody>\n",
              "</table>\n",
              "</div>"
            ],
            "text/plain": [
              "                                              Tweets\n",
              "0  RT @WHO: The @ACTAccelerator, an unprecedented...\n",
              "1  I was honored to speak at today’s #LeadersClim...\n",
              "2  Ambitious short-term goals like this are criti...\n",
              "3  It’s encouraging to see @POTUS Biden and @Clim...\n",
              "4  Yesterday's verdict was a step in the right di..."
            ]
          },
          "metadata": {
            "tags": []
          },
          "execution_count": 98
        }
      ]
    },
    {
      "cell_type": "code",
      "metadata": {
        "id": "VIkmwVaenXNt"
      },
      "source": [
        ""
      ],
      "execution_count": null,
      "outputs": []
    },
    {
      "cell_type": "code",
      "metadata": {
        "id": "aLcEPzkpdvw5",
        "colab": {
          "base_uri": "https://localhost:8080/",
          "height": 419
        },
        "outputId": "5463f436-ad3d-4027-c4a9-0923befc1158"
      },
      "source": [
        "# Create a function to clean the tweets\n",
        "def cleanTxt(text):\n",
        " text = re.sub('@[A-Za-z0–9]+', '', text) #Removing @mentions\n",
        " text = re.sub('#', '', text) # Removing '#' hash tag\n",
        " text = re.sub('RT[\\s]+', '', text) # Removing RT\n",
        " text = re.sub('https?:\\/\\/\\S+', '', text) # Removing hyperlink\n",
        " \n",
        " return text\n",
        "\n",
        "# Clean the tweets\n",
        "df['Tweets'] = df['Tweets'].apply(cleanTxt)\n",
        "\n",
        "# Show the cleaned tweets\n",
        "df"
      ],
      "execution_count": 99,
      "outputs": [
        {
          "output_type": "execute_result",
          "data": {
            "text/html": [
              "<div>\n",
              "<style scoped>\n",
              "    .dataframe tbody tr th:only-of-type {\n",
              "        vertical-align: middle;\n",
              "    }\n",
              "\n",
              "    .dataframe tbody tr th {\n",
              "        vertical-align: top;\n",
              "    }\n",
              "\n",
              "    .dataframe thead th {\n",
              "        text-align: right;\n",
              "    }\n",
              "</style>\n",
              "<table border=\"1\" class=\"dataframe\">\n",
              "  <thead>\n",
              "    <tr style=\"text-align: right;\">\n",
              "      <th></th>\n",
              "      <th>Tweets</th>\n",
              "    </tr>\n",
              "  </thead>\n",
              "  <tbody>\n",
              "    <tr>\n",
              "      <th>0</th>\n",
              "      <td>: The , an unprecedented global alliance to de...</td>\n",
              "    </tr>\n",
              "    <tr>\n",
              "      <th>1</th>\n",
              "      <td>I was honored to speak at today’s LeadersClima...</td>\n",
              "    </tr>\n",
              "    <tr>\n",
              "      <th>2</th>\n",
              "      <td>Ambitious short-term goals like this are criti...</td>\n",
              "    </tr>\n",
              "    <tr>\n",
              "      <th>3</th>\n",
              "      <td>It’s encouraging to see  Biden and  Kerry re-e...</td>\n",
              "    </tr>\n",
              "    <tr>\n",
              "      <th>4</th>\n",
              "      <td>Yesterday's verdict was a step in the right di...</td>\n",
              "    </tr>\n",
              "    <tr>\n",
              "      <th>...</th>\n",
              "      <td>...</td>\n",
              "    </tr>\n",
              "    <tr>\n",
              "      <th>95</th>\n",
              "      <td>This book has nothing to do with viruses or pa...</td>\n",
              "    </tr>\n",
              "    <tr>\n",
              "      <th>96</th>\n",
              "      <td>Monoclonal antibodies are one of the most prom...</td>\n",
              "    </tr>\n",
              "    <tr>\n",
              "      <th>97</th>\n",
              "      <td>: We’re looking for new ways to advance Alzhei...</td>\n",
              "    </tr>\n",
              "    <tr>\n",
              "      <th>98</th>\n",
              "      <td>Like many people, I’ve tried to deepen my unde...</td>\n",
              "    </tr>\n",
              "    <tr>\n",
              "      <th>99</th>\n",
              "      <td>The season finale of our podcast features two ...</td>\n",
              "    </tr>\n",
              "  </tbody>\n",
              "</table>\n",
              "<p>100 rows × 1 columns</p>\n",
              "</div>"
            ],
            "text/plain": [
              "                                               Tweets\n",
              "0   : The , an unprecedented global alliance to de...\n",
              "1   I was honored to speak at today’s LeadersClima...\n",
              "2   Ambitious short-term goals like this are criti...\n",
              "3   It’s encouraging to see  Biden and  Kerry re-e...\n",
              "4   Yesterday's verdict was a step in the right di...\n",
              "..                                                ...\n",
              "95  This book has nothing to do with viruses or pa...\n",
              "96  Monoclonal antibodies are one of the most prom...\n",
              "97  : We’re looking for new ways to advance Alzhei...\n",
              "98  Like many people, I’ve tried to deepen my unde...\n",
              "99  The season finale of our podcast features two ...\n",
              "\n",
              "[100 rows x 1 columns]"
            ]
          },
          "metadata": {
            "tags": []
          },
          "execution_count": 99
        }
      ]
    },
    {
      "cell_type": "code",
      "metadata": {
        "id": "ZywyYYwtdydI",
        "colab": {
          "base_uri": "https://localhost:8080/",
          "height": 419
        },
        "outputId": "511b6734-4058-4627-80be-22957b99ec68"
      },
      "source": [
        "# Create a function to get the subjectivity\n",
        "def getSubjectivity(text):\n",
        "   return TextBlob(text).sentiment.subjectivity\n",
        "\n",
        "# Create a function to get the polarity\n",
        "def getPolarity(text):\n",
        "   return  TextBlob(text).sentiment.polarity\n",
        "\n",
        "\n",
        "# Create two new columns 'Subjectivity' & 'Polarity'\n",
        "df['Subjectivity'] = df['Tweets'].apply(getSubjectivity)\n",
        "df['Polarity'] = df['Tweets'].apply(getPolarity)\n",
        "\n",
        "# Show the new dataframe with columns 'Subjectivity' & 'Polarity'\n",
        "df"
      ],
      "execution_count": 101,
      "outputs": [
        {
          "output_type": "execute_result",
          "data": {
            "text/html": [
              "<div>\n",
              "<style scoped>\n",
              "    .dataframe tbody tr th:only-of-type {\n",
              "        vertical-align: middle;\n",
              "    }\n",
              "\n",
              "    .dataframe tbody tr th {\n",
              "        vertical-align: top;\n",
              "    }\n",
              "\n",
              "    .dataframe thead th {\n",
              "        text-align: right;\n",
              "    }\n",
              "</style>\n",
              "<table border=\"1\" class=\"dataframe\">\n",
              "  <thead>\n",
              "    <tr style=\"text-align: right;\">\n",
              "      <th></th>\n",
              "      <th>Tweets</th>\n",
              "      <th>Subjectivity</th>\n",
              "      <th>Polarity</th>\n",
              "    </tr>\n",
              "  </thead>\n",
              "  <tbody>\n",
              "    <tr>\n",
              "      <th>0</th>\n",
              "      <td>: The , an unprecedented global alliance to de...</td>\n",
              "      <td>0.450000</td>\n",
              "      <td>0.300000</td>\n",
              "    </tr>\n",
              "    <tr>\n",
              "      <th>1</th>\n",
              "      <td>I was honored to speak at today’s LeadersClima...</td>\n",
              "      <td>0.000000</td>\n",
              "      <td>0.000000</td>\n",
              "    </tr>\n",
              "    <tr>\n",
              "      <th>2</th>\n",
              "      <td>Ambitious short-term goals like this are criti...</td>\n",
              "      <td>0.668750</td>\n",
              "      <td>0.062500</td>\n",
              "    </tr>\n",
              "    <tr>\n",
              "      <th>3</th>\n",
              "      <td>It’s encouraging to see  Biden and  Kerry re-e...</td>\n",
              "      <td>0.750000</td>\n",
              "      <td>0.450000</td>\n",
              "    </tr>\n",
              "    <tr>\n",
              "      <th>4</th>\n",
              "      <td>Yesterday's verdict was a step in the right di...</td>\n",
              "      <td>0.317262</td>\n",
              "      <td>0.079762</td>\n",
              "    </tr>\n",
              "    <tr>\n",
              "      <th>...</th>\n",
              "      <td>...</td>\n",
              "      <td>...</td>\n",
              "      <td>...</td>\n",
              "    </tr>\n",
              "    <tr>\n",
              "      <th>95</th>\n",
              "      <td>This book has nothing to do with viruses or pa...</td>\n",
              "      <td>0.966667</td>\n",
              "      <td>0.600000</td>\n",
              "    </tr>\n",
              "    <tr>\n",
              "      <th>96</th>\n",
              "      <td>Monoclonal antibodies are one of the most prom...</td>\n",
              "      <td>0.525714</td>\n",
              "      <td>0.222857</td>\n",
              "    </tr>\n",
              "    <tr>\n",
              "      <th>97</th>\n",
              "      <td>: We’re looking for new ways to advance Alzhei...</td>\n",
              "      <td>0.454545</td>\n",
              "      <td>0.136364</td>\n",
              "    </tr>\n",
              "    <tr>\n",
              "      <th>98</th>\n",
              "      <td>Like many people, I’ve tried to deepen my unde...</td>\n",
              "      <td>0.458000</td>\n",
              "      <td>0.282000</td>\n",
              "    </tr>\n",
              "    <tr>\n",
              "      <th>99</th>\n",
              "      <td>The season finale of our podcast features two ...</td>\n",
              "      <td>0.700000</td>\n",
              "      <td>0.700000</td>\n",
              "    </tr>\n",
              "  </tbody>\n",
              "</table>\n",
              "<p>100 rows × 3 columns</p>\n",
              "</div>"
            ],
            "text/plain": [
              "                                               Tweets  Subjectivity  Polarity\n",
              "0   : The , an unprecedented global alliance to de...      0.450000  0.300000\n",
              "1   I was honored to speak at today’s LeadersClima...      0.000000  0.000000\n",
              "2   Ambitious short-term goals like this are criti...      0.668750  0.062500\n",
              "3   It’s encouraging to see  Biden and  Kerry re-e...      0.750000  0.450000\n",
              "4   Yesterday's verdict was a step in the right di...      0.317262  0.079762\n",
              "..                                                ...           ...       ...\n",
              "95  This book has nothing to do with viruses or pa...      0.966667  0.600000\n",
              "96  Monoclonal antibodies are one of the most prom...      0.525714  0.222857\n",
              "97  : We’re looking for new ways to advance Alzhei...      0.454545  0.136364\n",
              "98  Like many people, I’ve tried to deepen my unde...      0.458000  0.282000\n",
              "99  The season finale of our podcast features two ...      0.700000  0.700000\n",
              "\n",
              "[100 rows x 3 columns]"
            ]
          },
          "metadata": {
            "tags": []
          },
          "execution_count": 101
        }
      ]
    },
    {
      "cell_type": "code",
      "metadata": {
        "id": "OAkux8WKd1QQ",
        "colab": {
          "base_uri": "https://localhost:8080/",
          "height": 232
        },
        "outputId": "2174c033-7139-4d1f-ad57-977fb96de74a"
      },
      "source": [
        "# word cloud visualization\n",
        "allWords = ' '.join([twts for twts in df['Tweets']])\n",
        "wordCloud = WordCloud(width=500, height=300, random_state=21, max_font_size=110).generate(allWords)\n",
        "\n",
        "\n",
        "plt.imshow(wordCloud, interpolation=\"bilinear\")\n",
        "plt.axis('off')\n",
        "plt.show()"
      ],
      "execution_count": 102,
      "outputs": [
        {
          "output_type": "display_data",
          "data": {
            "image/png": "[encoded data removed]",
            "text/plain": [
              "<Figure size 432x288 with 1 Axes>"
            ]
          },
          "metadata": {
            "tags": [],
            "needs_background": "light"
          }
        }
      ]
    },
    {
      "cell_type": "code",
      "metadata": {
        "id": "JqTzohBGd5eQ",
        "colab": {
          "base_uri": "https://localhost:8080/",
          "height": 419
        },
        "outputId": "57b08dc9-0d84-41ff-b594-61764b572b99"
      },
      "source": [
        "# Create a function to compute negative (-1), neutral (0) and positive (+1) analysis\n",
        "def getAnalysis(score):\n",
        "    if score < 0:\n",
        "      return 'Negative'\n",
        "    elif score == 0:\n",
        "      return 'Neutral'\n",
        "    else:\n",
        "      return 'Positive'\n",
        "\n",
        "df['Analysis'] = df['Polarity'].apply(getAnalysis)\n",
        "    # Show the dataframe\n",
        "df"
      ],
      "execution_count": 103,
      "outputs": [
        {
          "output_type": "execute_result",
          "data": {
            "text/html": [
              "<div>\n",
              "<style scoped>\n",
              "    .dataframe tbody tr th:only-of-type {\n",
              "        vertical-align: middle;\n",
              "    }\n",
              "\n",
              "    .dataframe tbody tr th {\n",
              "        vertical-align: top;\n",
              "    }\n",
              "\n",
              "    .dataframe thead th {\n",
              "        text-align: right;\n",
              "    }\n",
              "</style>\n",
              "<table border=\"1\" class=\"dataframe\">\n",
              "  <thead>\n",
              "    <tr style=\"text-align: right;\">\n",
              "      <th></th>\n",
              "      <th>Tweets</th>\n",
              "      <th>Subjectivity</th>\n",
              "      <th>Polarity</th>\n",
              "      <th>Analysis</th>\n",
              "    </tr>\n",
              "  </thead>\n",
              "  <tbody>\n",
              "    <tr>\n",
              "      <th>0</th>\n",
              "      <td>: The , an unprecedented global alliance to de...</td>\n",
              "      <td>0.450000</td>\n",
              "      <td>0.300000</td>\n",
              "      <td>Positive</td>\n",
              "    </tr>\n",
              "    <tr>\n",
              "      <th>1</th>\n",
              "      <td>I was honored to speak at today’s LeadersClima...</td>\n",
              "      <td>0.000000</td>\n",
              "      <td>0.000000</td>\n",
              "      <td>Neutral</td>\n",
              "    </tr>\n",
              "    <tr>\n",
              "      <th>2</th>\n",
              "      <td>Ambitious short-term goals like this are criti...</td>\n",
              "      <td>0.668750</td>\n",
              "      <td>0.062500</td>\n",
              "      <td>Positive</td>\n",
              "    </tr>\n",
              "    <tr>\n",
              "      <th>3</th>\n",
              "      <td>It’s encouraging to see  Biden and  Kerry re-e...</td>\n",
              "      <td>0.750000</td>\n",
              "      <td>0.450000</td>\n",
              "      <td>Positive</td>\n",
              "    </tr>\n",
              "    <tr>\n",
              "      <th>4</th>\n",
              "      <td>Yesterday's verdict was a step in the right di...</td>\n",
              "      <td>0.317262</td>\n",
              "      <td>0.079762</td>\n",
              "      <td>Positive</td>\n",
              "    </tr>\n",
              "    <tr>\n",
              "      <th>...</th>\n",
              "      <td>...</td>\n",
              "      <td>...</td>\n",
              "      <td>...</td>\n",
              "      <td>...</td>\n",
              "    </tr>\n",
              "    <tr>\n",
              "      <th>95</th>\n",
              "      <td>This book has nothing to do with viruses or pa...</td>\n",
              "      <td>0.966667</td>\n",
              "      <td>0.600000</td>\n",
              "      <td>Positive</td>\n",
              "    </tr>\n",
              "    <tr>\n",
              "      <th>96</th>\n",
              "      <td>Monoclonal antibodies are one of the most prom...</td>\n",
              "      <td>0.525714</td>\n",
              "      <td>0.222857</td>\n",
              "      <td>Positive</td>\n",
              "    </tr>\n",
              "    <tr>\n",
              "      <th>97</th>\n",
              "      <td>: We’re looking for new ways to advance Alzhei...</td>\n",
              "      <td>0.454545</td>\n",
              "      <td>0.136364</td>\n",
              "      <td>Positive</td>\n",
              "    </tr>\n",
              "    <tr>\n",
              "      <th>98</th>\n",
              "      <td>Like many people, I’ve tried to deepen my unde...</td>\n",
              "      <td>0.458000</td>\n",
              "      <td>0.282000</td>\n",
              "      <td>Positive</td>\n",
              "    </tr>\n",
              "    <tr>\n",
              "      <th>99</th>\n",
              "      <td>The season finale of our podcast features two ...</td>\n",
              "      <td>0.700000</td>\n",
              "      <td>0.700000</td>\n",
              "      <td>Positive</td>\n",
              "    </tr>\n",
              "  </tbody>\n",
              "</table>\n",
              "<p>100 rows × 4 columns</p>\n",
              "</div>"
            ],
            "text/plain": [
              "                                               Tweets  ...  Analysis\n",
              "0   : The , an unprecedented global alliance to de...  ...  Positive\n",
              "1   I was honored to speak at today’s LeadersClima...  ...   Neutral\n",
              "2   Ambitious short-term goals like this are criti...  ...  Positive\n",
              "3   It’s encouraging to see  Biden and  Kerry re-e...  ...  Positive\n",
              "4   Yesterday's verdict was a step in the right di...  ...  Positive\n",
              "..                                                ...  ...       ...\n",
              "95  This book has nothing to do with viruses or pa...  ...  Positive\n",
              "96  Monoclonal antibodies are one of the most prom...  ...  Positive\n",
              "97  : We’re looking for new ways to advance Alzhei...  ...  Positive\n",
              "98  Like many people, I’ve tried to deepen my unde...  ...  Positive\n",
              "99  The season finale of our podcast features two ...  ...  Positive\n",
              "\n",
              "[100 rows x 4 columns]"
            ]
          },
          "metadata": {
            "tags": []
          },
          "execution_count": 103
        }
      ]
    },
    {
      "cell_type": "code",
      "metadata": {
        "id": "EYzZ0cpBd7hA",
        "colab": {
          "base_uri": "https://localhost:8080/"
        },
        "outputId": "d0a8d1c8-24d4-4584-b267-4b7b39138865"
      },
      "source": [
        "# Printing positive tweets \n",
        "print('Printing positive tweets:\\n')\n",
        "j=1\n",
        "sortedDF = df.sort_values(by=['Polarity']) #Sort the tweets\n",
        "for i in range(0, sortedDF.shape[0] ):\n",
        "  if (sortedDF['Analysis'][i] == 'Positive'):\n",
        "    print(str(j) + ') '+ sortedDF['Tweets'][i])\n",
        "    print()\n",
        "    j= j+1"
      ],
      "execution_count": 104,
      "outputs": [
        {
          "output_type": "stream",
          "text": [
            "Printing positive tweets:\n",
            "\n",
            "1) : The , an unprecedented global alliance to develop &amp; deliver the tests, treatments &amp; vaccines the 🌐 needs to fight …\n",
            "\n",
            "2) Ambitious short-term goals like this are critical to moving closer to a net-zero future. As we rapidly scale the solutions we have, we must also invest in innovation to reach our ultimate goals. Thank you  for your leadership. \n",
            "\n",
            "3) It’s encouraging to see  Biden and  Kerry re-establish America’s leading role on climate change. I look forward to joining leaders from around the world to talk about some of the most important challenges we need to overcome to avoid a climate disaster. \n",
            "\n",
            "4) Yesterday's verdict was a step in the right direction. But one court ruling alone will not bring to an end the injustice and inequity that Black people experience daily.  I hope we will continue to make real progress on this.\n",
            "\n",
            "5) “Time” is a poetic portrait of a family who love and support each other despite their difficult circumstances. I can’t recommend it highly enough. \n",
            "\n",
            "6) If “Time” wins the Oscar this year, it will be the first documentary directed by a Black woman to do so. Garrett Bradley’s talent makes her worthy of that milestone. This is one of the most intimate movies I have ever seen. itsTIME \n",
            "\n",
            "7) : In February, Ghana became the first African country to receive vaccines through COVAX. Meet one of the nurses spearheading the v…\n",
            "\n",
            "8) To get to net-zero emissions globally by 2050, leaders from around the world must work together. It’s encouraging to see governments, business leaders, and financial institutions committing to a successful COP26 in Glasgow later this year. \n",
            "\n",
            "9) The amount of cement China has consumed is a staggering statistic and reminder of how much emissions have grown in low- and middle-income countries. (Minecraft concrete doesn’t count, though server farms are responsible for a lot of emissions.)  \n",
            "\n",
            "10) Who installed the most concrete?\n",
            "\n",
            "Check your answer: \n",
            "\n",
            "11) The best way to prevent new variants from emerging is by stopping transmission of the virus altogether:  \n",
            "\n",
            "12) It's encouraging to see innovation and clean energy investments at the forefront of 's AmericanJobsPlan. Building markets for new energy technologies is good for jobs today and will build the economies we need while avoiding a climate disaster. \n",
            "\n",
            "13) The technological transformation we need to address climate change can create good, safe jobs and build a more equitable, prosperous economy. To make that happen, we need to think big:  \n",
            "\n",
            "14) I had a great time answering questions about my new book, climate change, and COVID-19 on  last week. Here’s a recap of the conversation. \n",
            "\n",
            "15) In this video, I answered some really good questions, including one about two really important numbers. Come ask me some questions of your own on  at 11:15:  \n",
            "\n",
            "16) I named my book “How to Avoid a Climate Disaster,” not “How to Stop Climate Change,” because our climate is already changing—and no one will be hurt more by climate change than the world’s poorest people. Here's how we can help them adapt. \n",
            "\n",
            "17) Congratulations  on this important role. I’m excited to see what you and the Earth Fund will achieve. Avoiding a climate disaster is going to take all of us, and I’m grateful for ’s leadership and partnership. \n",
            "\n",
            "18) Thank you  for a great conversation about climate change and thanks to  and  for hosting the event. \n",
            "\n",
            "19) Virologist Ruth Bishop pioneered the research that led to the discovery of rotavirus. Her legacy continues both as a role model for other researchers and in the millions of children’s lives that have been saved because of her heroic work:  IWD2021 \n",
            "\n",
            "20) : On International Women’s Day, join me in celebrating some of the inspiring women who made COVID19 vaccines possible. Know…\n",
            "\n",
            "21) Thank you  for the kind words. Your leadership at the 2015 Paris climate conference helped prove that global cooperation on climate is possible and gives me hope that we can reach our goal of zero emissions. \n",
            "\n",
            "22) Moving to a green economy is the biggest challenge the world has ever faced. I’m optimistic we can do it, but need to make sure it benefits everyone—including those workers and communities who depend on the fossil fuels that we need to get rid of. \n",
            "\n",
            "23) We can’t avoid a climate disaster without corporate leaders making courageous decisions now. I hope to work with  on building the markets for the clean technologies the world needs. Thank you for the kind words, Herbert. \n",
            "\n",
            "24) Delivering vaccines to those who need them most, no matter where they live or how much money they have, is the only way to end the pandemic and begin the recovery. This is an important milestone. \n",
            "\n",
            "25) _H2020   1 To get to net zero, we need innovation to replace fossil fuels in everyday products like plastics. 1 is one of the many companies leading on this important work.\n",
            "\n",
            "26) We're fortunate to have an Energy Secretary who's focused on creating high-quality jobs to build a clean energy economy. I look forward to working with  on clean tech innovation and deployment. \n",
            "\n",
            "27) Thanks  and  for a great conversation about how we can avoid a climate disaster. \n",
            "\n",
            "28) I’m looking forward to joining  to talk about climate change, our foundation’s work in response to the pandemic, and more. \n",
            "\n",
            "29) It’s encouraging to have  John Kerry representing the U.S. to the world. Now that we've rejoined the Paris Climate Agreement, it's going to take ambitious action from U.S. leaders and those around the globe to avoid a climate disaster. \n",
            "\n",
            "30) Thanks  and  for having me on the show to talk about climate change and COVID-19 – two urgent global issues that need global collaboration. \n",
            "\n",
            "31)   I always have fun talking to . Thanks for inviting me to talk about climate change and my new book.\n",
            "\n",
            "32) : I’m grateful for new commitments from the EU, Germany, Canada, Japan, and the U.S. to help make safe and effective COVID-…\n",
            "\n",
            "33) I’m inspired by ’s activism and humanitarian work. Thanks to  and  for hosting our discussion about climate change and how everyone can help. \n",
            "\n",
            "34)  Thanks 1 for talking with me about this challenge and why we need to act now.\n",
            "\n",
            "35) Meaningful action from business leaders will require the courage to take risks that many companies aren't used to taking. \n",
            "\n",
            "36) Thanks to , , and everyone who joined our virtual conversation about climate change. Great to have so much support from my hometown for this important work. \n",
            "\n",
            "37) Great to see this important step as the United States resumes our global leadership on climate change. Looking forward to working with  and Congress on a plan to ensure we reach net zero by 2050. \n",
            "\n",
            "38) Thanks to  for hosting the launch of my virtual book tour. It was great to hear so many thoughtful questions about what we can all do to help avoid a climate disaster.\n",
            "\n",
            "39) : Bill Gates on Climate Change, Covid and Whether He Has Too Much Influence \n",
            "\n",
            "40) Thanks for inviting me on the podcast, . \n",
            "\n",
            "41) Thank you, _RDG. We have a lot of work ahead of us to reach net-zero emissions by 2050 and avoid a climate disaster. Your leadership of COP26 is critical. Thanks also to ,  and  for hosting the London stop of my virtual book tour! \n",
            "\n",
            "42) It was great to talk with  about my new book and the solutions we need to fight climate change. \n",
            "\n",
            "43)   Thank you  for inviting me to talk about climate change. Solving it won’t be easy, but I believe we can do it.\n",
            "\n",
            "44) Thanks for another great conversation ! \n",
            "\n",
            "45)  Thanks for inviting me to be a guest editor. We need every business leader and every industry to play a role in the fight against climate change.\n",
            "\n",
            "46) I had a great time working with  on this special digital issue about climate change. The entire business community has a role to play—and we need to start now. \n",
            "\n",
            "47) How to Avoid a Climate Disaster is available now. I hope you’ll check out the book, but more importantly, I hope you’ll do what you can to help keep the planet livable for generations to come:  \n",
            "\n",
            "48) : In a digital cover story, we talked to  about his new book, \"How to Avoid a Climate Disaster.\" \n",
            "\n",
            "49) To avoid a climate disaster, we need to eliminate emissions from the ways we create electricity, grow food, make things, move around, and heat and cool our buildings. It won’t be easy, but I believe we can do it. This book is about what it will take. \n",
            "\n",
            "50) I enjoyed spending time with  recently in Seattle. We talked about why I’m optimistic that the world can get to zero greenhouse gas emissions and avoid a climate disaster:  \n",
            "\n",
            "51) I’m thrilled to join , _RDG, , , , , ,  and Monica Padman, Sal Khan, and Ariel Bissett to discuss how the world can work to avoid a climate disaster:  \n",
            "\n",
            "52) When it comes to preventing pandemics, scientific tools alone aren’t enough. We also need new capabilities, including a global alert system and infectious disease first responders (or what I like to call a pandemic fire squad):  \n",
            "\n",
            "53) This has been a year unlike any other in our lifetimes. In our new Annual Letter, Melinda and I talk about how we can turn the hard-won lessons of the pandemic into a healthier, more equal future for all. \n",
            "\n",
            "54) : I believe that women can be the architects of a better world. \n",
            "\n",
            "Their stories have instilled in me both a sense of urgenc…\n",
            "\n",
            "55) One of the benefits of being 65 is that I’m eligible for the COVID-19 vaccine. I got my first dose this week, and I feel great. Thank you to all of the scientists, trial participants, regulators, and frontline healthcare workers who got us to this point. \n",
            "\n",
            "56) It’s great to see President Biden elevate science leadership to a cabinet-level position. Congratulations _lander. \n",
            "\n",
            "57) And while COVID-19 will rightfully continue to dominate the agenda, the United States also has the opportunity to lead the world in avoiding a climate disaster. The President is taking a great first step by rejoining the Paris Climate Accord.\n",
            "\n",
            "58) With Americans across the country working together, more people get a COVID-19 vaccine every day, bringing us closer to a time when life will look much more like normal. Until then, we can slow the spread of the virus and save lives by continuing to distance and wear masks.\n",
            "\n",
            "59) MLKDay has long been a national day of service. As we celebrate the first without Congressman John Lewis, I'm thinking about his powerful call to remain hopeful about the future as we work to make our country—and our world—a better place. \n",
            "\n",
            "60) It’s great to see India’s leadership in scientific innovation and vaccine manufacturing capability as the world works to end the COVID-19 pandemic  \n",
            "\n",
            "61) : The best emergency system is a strong primary health system—powered by community and frontline health workers. Now is t…\n",
            "\n",
            "62) What does Rashida Jones have on her shopping list? That’s just one of the many questions that didn’t make it into our podcast. You can listen to some of the big questions we did tackle here:  \n",
            "\n",
            "63) 2021 will be better than 2020. Here’s why: \n",
            "\n",
            "64) Standing up for science has never been more important. Congratulations to Dr. Anthony Fauci and Dr. Salim Abdool Karim on receiving this honor. \n",
            "\n",
            "65) I've known and learned from  for more than 40 years. I'm glad to see  team up with  to mentor and support companies working to create more economic empowerment opportunities for people across the world. \n",
            "\n",
            "66) This book has nothing to do with viruses or pandemics. But it is surprisingly relevant for these times.  provides a brilliant and gripping account of another era of widespread anxiety: the years 1940 and 1941. \n",
            "\n",
            "67) Monoclonal antibodies are one of the most promising treatments we have for COVID-19, thanks in large part to R&amp;D by Canadian scientists. Because of their generosity, people all around the world will have access to this potentially lifesaving treatment. \n",
            "\n",
            "68) : We’re looking for new ways to advance AlzheimersResearch. If you have an idea for tools, models, or algorithms that will expa…\n",
            "\n",
            "69) Like many people, I’ve tried to deepen my understanding of systemic racism in recent months. If you’re interested in learning more about the lives caught up in our country's justice system, I highly recommend  by Michelle Alexander. \n",
            "\n",
            "70) The season finale of our podcast features two incredible people who are using their positions as artists to change the world for the better. \n",
            "\n"
          ],
          "name": "stdout"
        }
      ]
    },
    {
      "cell_type": "code",
      "metadata": {
        "id": "j-nfeDWCd9zY",
        "colab": {
          "base_uri": "https://localhost:8080/"
        },
        "outputId": "b961aed4-885a-4c53-e591-706837d465df"
      },
      "source": [
        "# Printing negative tweets  \n",
        "print('Printing negative tweets:\\n')\n",
        "j=1\n",
        "sortedDF = df.sort_values(by=['Polarity'],ascending=False) #Sort the tweets\n",
        "for i in range(0, sortedDF.shape[0] ):\n",
        "  if( sortedDF['Analysis'][i] == 'Negative'):\n",
        "    print(str(j) + ') '+sortedDF['Tweets'][i] + str(sortedDF['Polarity'][i]))\n",
        "    print()\n",
        "    j=j+1"
      ],
      "execution_count": 105,
      "outputs": [
        {
          "output_type": "stream",
          "text": [
            "Printing negative tweets:\n",
            "\n",
            "1) Communities of color have been hit hard by COVID-19. One of the reasons why parts of the medical system often fail Black and brown people is because it’s not designed with them in mind. Dr. Stephaun Wallace wants to change that. -0.15166666666666667\n",
            "\n",
            "2) Dr. Stephaun Wallace () has spent the last year helping make COVID-19 vaccines work for everybody. Stephaun and his colleagues at  are working to reach the people who are usually left behind. -0.125\n",
            "\n",
            "3) It’s deeply unfair that the people who contribute the least to climate change will suffer the worst from its effects:  -0.6\n",
            "\n",
            "4) : Over the past few weeks health workers in Ethiopia 🇪🇹, Nigeria 🇳🇬, Sudan 🇸🇩 and the Philippines 🇵🇭 were vaccinated against COVI…-0.225\n",
            "\n",
            "5) For decades, Australian researcher Ruth Bishop led global efforts to identify and combat rotavirus. Her life is a reminder of the importance of scientific research to uncover unknown pathogens and the power of vaccines to prevent suffering and save lives. -0.03333333333333333\n",
            "\n",
            "6) : Black folks have questions about the COVID-19 vaccine. I sat down w/ Black healthcare workers &amp; they answered my questions.…-0.16296296296296298\n",
            "\n",
            "7) Recent extreme weather events are a stark reminder that we’re already seeing the effects of climate change here at home and around the world. This type of observation system will help scientists monitor and predict future weather events. -0.08125\n",
            "\n",
            "8) There are several ways individuals can help move us closer to a zero-carbon future. Here are a few:  -0.06666666666666667\n",
            "\n",
            "9) : The Weekly Planet: Lately, Bill Gates has been thinking about what he calls the “hard stuff” of climate change. These hard…-0.29583333333333334\n",
            "\n",
            "10) : \"People who think a plan is easy are wrong. People who think a plan is impossible are wrong. It's super hard and very broad,…-0.1416666666666667\n",
            "\n",
            "11) : Only 3% of Black students learn computer science in high school or beyond. Please watch and share this video. Inspire a studen…-0.002222222222222218\n",
            "\n",
            "12) COVID-19 has cost lives, sickened millions, and thrust the global economy into a devastating recession. But hope is on the horizon:  -0.5\n",
            "\n",
            "13) Here are four other ways that America can advance its leadership on climate change this year and put the world on a path to zero emissions by 2050:  -0.125\n",
            "\n",
            "14) The President’s commitment to reengage with the world gives me hope that the recovery will reach everyone, including communities of color in the U.S. and people in poor countries around the world.-0.4\n",
            "\n"
          ],
          "name": "stdout"
        }
      ]
    },
    {
      "cell_type": "code",
      "metadata": {
        "id": "pyKILJk2d_qN",
        "colab": {
          "base_uri": "https://localhost:8080/",
          "height": 404
        },
        "outputId": "9f24df59-6aae-4a26-c66f-96beb86051dc"
      },
      "source": [
        "# Plotting \n",
        "plt.figure(figsize=(8,6)) \n",
        "for i in range(0, df.shape[0]):\n",
        "  plt.scatter(df[\"Polarity\"][i], df[\"Subjectivity\"][i], color='Blue') \n",
        "# plt.scatter(x,y,color)   \n",
        "plt.title('Sentiment Analysis') \n",
        "plt.xlabel('Polarity') \n",
        "plt.ylabel('Subjectivity') \n",
        "plt.show()"
      ],
      "execution_count": 106,
      "outputs": [
        {
          "output_type": "display_data",
          "data": {
            "image/png": "[encoded data removed]",
            "text/plain": [
              "<Figure size 576x432 with 1 Axes>"
            ]
          },
          "metadata": {
            "tags": [],
            "needs_background": "light"
          }
        }
      ]
    },
    {
      "cell_type": "code",
      "metadata": {
        "id": "HoboaQtSeB8I",
        "colab": {
          "base_uri": "https://localhost:8080/"
        },
        "outputId": "1cb9f2b0-13b0-4c58-f4f2-75f64a83c51b"
      },
      "source": [
        "# Print the percentage of positive tweets\n",
        "ptweets = df[df.Analysis == 'Positive']\n",
        "ptweets = ptweets['Tweets']\n",
        "ptweets\n",
        "\n",
        "round( (ptweets.shape[0] / df.shape[0]) * 100 , 1)"
      ],
      "execution_count": 107,
      "outputs": [
        {
          "output_type": "execute_result",
          "data": {
            "text/plain": [
              "70.0"
            ]
          },
          "metadata": {
            "tags": []
          },
          "execution_count": 107
        }
      ]
    },
    {
      "cell_type": "code",
      "metadata": {
        "id": "GKyKtzYoeEDS",
        "colab": {
          "base_uri": "https://localhost:8080/"
        },
        "outputId": "4237c916-1dce-4d6d-8791-4db133cafa56"
      },
      "source": [
        "# Print the percentage of negative tweets\n",
        "ntweets = df[df.Analysis == 'Negative']\n",
        "ntweets = ntweets['Tweets']\n",
        "ntweets\n",
        "\n",
        "round( (ntweets.shape[0] / df.shape[0]) * 100, 1)"
      ],
      "execution_count": 108,
      "outputs": [
        {
          "output_type": "execute_result",
          "data": {
            "text/plain": [
              "14.0"
            ]
          },
          "metadata": {
            "tags": []
          },
          "execution_count": 108
        }
      ]
    },
    {
      "cell_type": "code",
      "metadata": {
        "id": "jvTbwwmJeFx8",
        "colab": {
          "base_uri": "https://localhost:8080/"
        },
        "outputId": "f61a5f2b-504c-4137-e503-45f02231988e"
      },
      "source": [
        "# Show the value counts\n",
        "df['Analysis'].value_counts()"
      ],
      "execution_count": 109,
      "outputs": [
        {
          "output_type": "execute_result",
          "data": {
            "text/plain": [
              "Positive    70\n",
              "Neutral     16\n",
              "Negative    14\n",
              "Name: Analysis, dtype: int64"
            ]
          },
          "metadata": {
            "tags": []
          },
          "execution_count": 109
        }
      ]
    },
    {
      "cell_type": "code",
      "metadata": {
        "id": "e5FIz0EIeH1N",
        "colab": {
          "base_uri": "https://localhost:8080/",
          "height": 330
        },
        "outputId": "deecbe7a-f22e-457c-c125-a0c46aa0805d"
      },
      "source": [
        "# Plotting and visualizing the counts\n",
        "plt.title('Sentiment Analysis')\n",
        "plt.xlabel('Sentiment')\n",
        "plt.ylabel('Counts')\n",
        "df['Analysis'].value_counts().plot(kind = 'bar')\n",
        "plt.show()"
      ],
      "execution_count": 110,
      "outputs": [
        {
          "output_type": "display_data",
          "data": {
            "image/png": "[encoded data removed]",
            "text/plain": [
              "<Figure size 432x288 with 1 Axes>"
            ]
          },
          "metadata": {
            "tags": [],
            "needs_background": "light"
          }
        }
      ]
    },
    {
      "cell_type": "code",
      "metadata": {
        "colab": {
          "base_uri": "https://localhost:8080/"
        },
        "id": "1xA3F-DjFTx6",
        "outputId": "99ae9f4e-1285-47f2-c859-133362957a73"
      },
      "source": [
        "!pip3 install dostoevsky\n",
        "!python3 -m dostoevsky download fasttext-social-network-model\n"
      ],
      "execution_count": 111,
      "outputs": [
        {
          "output_type": "stream",
          "text": [
            "Requirement already satisfied: dostoevsky in /usr/local/lib/python3.7/dist-packages (0.6.0)\n",
            "Requirement already satisfied: razdel==0.5.0 in /usr/local/lib/python3.7/dist-packages (from dostoevsky) (0.5.0)\n",
            "Requirement already satisfied: fasttext==0.9.2 in /usr/local/lib/python3.7/dist-packages (from dostoevsky) (0.9.2)\n",
            "Requirement already satisfied: setuptools>=0.7.0 in /usr/local/lib/python3.7/dist-packages (from fasttext==0.9.2->dostoevsky) (56.0.0)\n",
            "Requirement already satisfied: pybind11>=2.2 in /usr/local/lib/python3.7/dist-packages (from fasttext==0.9.2->dostoevsky) (2.6.2)\n",
            "Requirement already satisfied: numpy in /usr/local/lib/python3.7/dist-packages (from fasttext==0.9.2->dostoevsky) (1.19.5)\n"
          ],
          "name": "stdout"
        }
      ]
    },
    {
      "cell_type": "code",
      "metadata": {
        "colab": {
          "base_uri": "https://localhost:8080/"
        },
        "id": "kU_UH6S6YJ6b",
        "outputId": "91a22133-7fa3-48b8-dda1-ffb684cb86fc"
      },
      "source": [
        "# Extract 100 tweets from the twitter user\n",
        "posts = api.user_timeline(screen_name=\"Govrie\", count = 100, lang =\"ru\", tweet_mode=\"extended\")\n",
        "\n",
        "#  Print the last 5 tweets\n",
        "print(\"Show the 5 recent tweets:\\n\")\n",
        "i=1\n",
        "for tweet in posts[:5]:\n",
        "    print(str(i) +') '+ tweet.full_text + '\\n')\n",
        "    i= i+1"
      ],
      "execution_count": 114,
      "outputs": [
        {
          "output_type": "stream",
          "text": [
            "Show the 5 recent tweets:\n",
            "\n",
            "1) Лучше видео для майских выходных:\n",
            "https://t.co/F49CyX3uHx\n",
            "\n",
            "2) @byokke Ага!\n",
            "\n",
            "3) Найдите Говри-семиклассника на фото: https://t.co/I6ODAPKOcb\n",
            "\n",
            "4) RT @foxikov: @VS_Oblomov Западные партнёры Путина, когда узнали, что шара 90-х закончилась \n",
            "#любимыймоментвземнойистории https://t.co/JZZyB…\n",
            "\n",
            "5) RT @askinprombitch: Коррекция зрения в моем втором доме - республиканской офтальмологической больнице повысилась до 83 косых. Аж прозрела н…\n",
            "\n"
          ],
          "name": "stdout"
        }
      ]
    },
    {
      "cell_type": "code",
      "metadata": {
        "colab": {
          "base_uri": "https://localhost:8080/",
          "height": 204
        },
        "id": "sY-_mLwhYZ4O",
        "outputId": "7d0de846-4265-4e66-9a5e-b0d723bd8120"
      },
      "source": [
        "# Create a dataframe with a column called Tweets\n",
        "df = pd.DataFrame([tweet.full_text for tweet in posts], columns=['Tweets'])\n",
        "# Show the first 5 rows of data\n",
        "df.head()"
      ],
      "execution_count": 139,
      "outputs": [
        {
          "output_type": "execute_result",
          "data": {
            "text/html": [
              "<div>\n",
              "<style scoped>\n",
              "    .dataframe tbody tr th:only-of-type {\n",
              "        vertical-align: middle;\n",
              "    }\n",
              "\n",
              "    .dataframe tbody tr th {\n",
              "        vertical-align: top;\n",
              "    }\n",
              "\n",
              "    .dataframe thead th {\n",
              "        text-align: right;\n",
              "    }\n",
              "</style>\n",
              "<table border=\"1\" class=\"dataframe\">\n",
              "  <thead>\n",
              "    <tr style=\"text-align: right;\">\n",
              "      <th></th>\n",
              "      <th>Tweets</th>\n",
              "    </tr>\n",
              "  </thead>\n",
              "  <tbody>\n",
              "    <tr>\n",
              "      <th>0</th>\n",
              "      <td>Лучше видео для майских выходных:\\nhttps://t.c...</td>\n",
              "    </tr>\n",
              "    <tr>\n",
              "      <th>1</th>\n",
              "      <td>@byokke Ага!</td>\n",
              "    </tr>\n",
              "    <tr>\n",
              "      <th>2</th>\n",
              "      <td>Найдите Говри-семиклассника на фото: https://t...</td>\n",
              "    </tr>\n",
              "    <tr>\n",
              "      <th>3</th>\n",
              "      <td>RT @foxikov: @VS_Oblomov Западные партнёры Пут...</td>\n",
              "    </tr>\n",
              "    <tr>\n",
              "      <th>4</th>\n",
              "      <td>RT @askinprombitch: Коррекция зрения в моем вт...</td>\n",
              "    </tr>\n",
              "  </tbody>\n",
              "</table>\n",
              "</div>"
            ],
            "text/plain": [
              "                                              Tweets\n",
              "0  Лучше видео для майских выходных:\\nhttps://t.c...\n",
              "1                                       @byokke Ага!\n",
              "2  Найдите Говри-семиклассника на фото: https://t...\n",
              "3  RT @foxikov: @VS_Oblomov Западные партнёры Пут...\n",
              "4  RT @askinprombitch: Коррекция зрения в моем вт..."
            ]
          },
          "metadata": {
            "tags": []
          },
          "execution_count": 139
        }
      ]
    },
    {
      "cell_type": "code",
      "metadata": {
        "colab": {
          "base_uri": "https://localhost:8080/",
          "height": 419
        },
        "id": "8inwbiTkYbkr",
        "outputId": "5d60a749-3a1b-4c97-9b1c-e8d827b95845"
      },
      "source": [
        "# Create a function to clean the tweets\n",
        "def cleanTxt(text):\n",
        " text = re.sub('@[A-Za-z0–9]+', '', text) #Removing @mentions\n",
        " text = re.sub('#', '', text) # Removing '#' hash tag\n",
        " text = re.sub('RT[\\s]+', '', text) # Removing RT\n",
        " text = re.sub('https?:\\/\\/\\S+', '', text) # Removing hyperlink\n",
        " \n",
        " return text\n",
        "\n",
        "# Clean the tweets\n",
        "df['Tweets'] = df['Tweets'].apply(cleanTxt)\n",
        "\n",
        "# Show the cleaned tweets\n",
        "df"
      ],
      "execution_count": 140,
      "outputs": [
        {
          "output_type": "execute_result",
          "data": {
            "text/html": [
              "<div>\n",
              "<style scoped>\n",
              "    .dataframe tbody tr th:only-of-type {\n",
              "        vertical-align: middle;\n",
              "    }\n",
              "\n",
              "    .dataframe tbody tr th {\n",
              "        vertical-align: top;\n",
              "    }\n",
              "\n",
              "    .dataframe thead th {\n",
              "        text-align: right;\n",
              "    }\n",
              "</style>\n",
              "<table border=\"1\" class=\"dataframe\">\n",
              "  <thead>\n",
              "    <tr style=\"text-align: right;\">\n",
              "      <th></th>\n",
              "      <th>Tweets</th>\n",
              "    </tr>\n",
              "  </thead>\n",
              "  <tbody>\n",
              "    <tr>\n",
              "      <th>0</th>\n",
              "      <td>Лучше видео для майских выходных:\\n</td>\n",
              "    </tr>\n",
              "    <tr>\n",
              "      <th>1</th>\n",
              "      <td>Ага!</td>\n",
              "    </tr>\n",
              "    <tr>\n",
              "      <th>2</th>\n",
              "      <td>Найдите Говри-семиклассника на фото:</td>\n",
              "    </tr>\n",
              "    <tr>\n",
              "      <th>3</th>\n",
              "      <td>: _Oblomov Западные партнёры Путина, когда узн...</td>\n",
              "    </tr>\n",
              "    <tr>\n",
              "      <th>4</th>\n",
              "      <td>: Коррекция зрения в моем втором доме - респуб...</td>\n",
              "    </tr>\n",
              "    <tr>\n",
              "      <th>...</th>\n",
              "      <td>...</td>\n",
              "    </tr>\n",
              "    <tr>\n",
              "      <th>95</th>\n",
              "      <td>Проголосовал за Мичилиту, основателя ОВД- инфо...</td>\n",
              "    </tr>\n",
              "    <tr>\n",
              "      <th>96</th>\n",
              "      <td>Идея нейминга для будущих проектов</td>\n",
              "    </tr>\n",
              "    <tr>\n",
              "      <th>97</th>\n",
              "      <td>Кому стало интересно:</td>\n",
              "    </tr>\n",
              "    <tr>\n",
              "      <th>98</th>\n",
              "      <td>Парейдолия! Бля, за три года в Тиктоке я узнал...</td>\n",
              "    </tr>\n",
              "    <tr>\n",
              "      <th>99</th>\n",
              "      <td>Вы тоже не знаете, что на работе объявят насчё...</td>\n",
              "    </tr>\n",
              "  </tbody>\n",
              "</table>\n",
              "<p>100 rows × 1 columns</p>\n",
              "</div>"
            ],
            "text/plain": [
              "                                               Tweets\n",
              "0                 Лучше видео для майских выходных:\\n\n",
              "1                                                Ага!\n",
              "2               Найдите Говри-семиклассника на фото: \n",
              "3   : _Oblomov Западные партнёры Путина, когда узн...\n",
              "4   : Коррекция зрения в моем втором доме - респуб...\n",
              "..                                                ...\n",
              "95  Проголосовал за Мичилиту, основателя ОВД- инфо...\n",
              "96               Идея нейминга для будущих проектов  \n",
              "97                             Кому стало интересно: \n",
              "98  Парейдолия! Бля, за три года в Тиктоке я узнал...\n",
              "99  Вы тоже не знаете, что на работе объявят насчё...\n",
              "\n",
              "[100 rows x 1 columns]"
            ]
          },
          "metadata": {
            "tags": []
          },
          "execution_count": 140
        }
      ]
    },
    {
      "cell_type": "code",
      "metadata": {
        "id": "wb70xd8LYozS"
      },
      "source": [
        ""
      ],
      "execution_count": null,
      "outputs": []
    },
    {
      "cell_type": "code",
      "metadata": {
        "colab": {
          "base_uri": "https://localhost:8080/",
          "height": 436
        },
        "id": "qLZXPG42GhD6",
        "outputId": "e5726644-e4b2-4c7c-96c4-a9ba87d03bb5"
      },
      "source": [
        "from dostoevsky.tokenization import RegexTokenizer\n",
        "from dostoevsky.models import FastTextSocialNetworkModel\n",
        "\n",
        "tokenizer = RegexTokenizer()\n",
        "model = FastTextSocialNetworkModel(tokenizer=tokenizer)\n",
        "\n",
        "messages = df['Tweets'].apply(cleanTxt)\n",
        "results = model.predict(messages, k=2)\n",
        "\n",
        "def getAnalysis(sentiments):\n",
        "    for message, sentiment in zip(messages, results):\n",
        "        return max(sentiment)\n",
        "df['Analysis'] = df['Tweets'].apply(getAnalysis)\n",
        "    # Show the dataframe\n",
        "df\n",
        "\n"
      ],
      "execution_count": 141,
      "outputs": [
        {
          "output_type": "stream",
          "text": [
            "Warning : `load_model` does not return WordVectorModel or SupervisedModel any more, but a `FastText` object which is very similar.\n"
          ],
          "name": "stderr"
        },
        {
          "output_type": "execute_result",
          "data": {
            "text/html": [
              "<div>\n",
              "<style scoped>\n",
              "    .dataframe tbody tr th:only-of-type {\n",
              "        vertical-align: middle;\n",
              "    }\n",
              "\n",
              "    .dataframe tbody tr th {\n",
              "        vertical-align: top;\n",
              "    }\n",
              "\n",
              "    .dataframe thead th {\n",
              "        text-align: right;\n",
              "    }\n",
              "</style>\n",
              "<table border=\"1\" class=\"dataframe\">\n",
              "  <thead>\n",
              "    <tr style=\"text-align: right;\">\n",
              "      <th></th>\n",
              "      <th>Tweets</th>\n",
              "      <th>Analysis</th>\n",
              "    </tr>\n",
              "  </thead>\n",
              "  <tbody>\n",
              "    <tr>\n",
              "      <th>0</th>\n",
              "      <td>Лучше видео для майских выходных:\\n</td>\n",
              "      <td>positive</td>\n",
              "    </tr>\n",
              "    <tr>\n",
              "      <th>1</th>\n",
              "      <td>Ага!</td>\n",
              "      <td>positive</td>\n",
              "    </tr>\n",
              "    <tr>\n",
              "      <th>2</th>\n",
              "      <td>Найдите Говри-семиклассника на фото:</td>\n",
              "      <td>positive</td>\n",
              "    </tr>\n",
              "    <tr>\n",
              "      <th>3</th>\n",
              "      <td>: _Oblomov Западные партнёры Путина, когда узн...</td>\n",
              "      <td>positive</td>\n",
              "    </tr>\n",
              "    <tr>\n",
              "      <th>4</th>\n",
              "      <td>: Коррекция зрения в моем втором доме - респуб...</td>\n",
              "      <td>positive</td>\n",
              "    </tr>\n",
              "    <tr>\n",
              "      <th>...</th>\n",
              "      <td>...</td>\n",
              "      <td>...</td>\n",
              "    </tr>\n",
              "    <tr>\n",
              "      <th>95</th>\n",
              "      <td>Проголосовал за Мичилиту, основателя ОВД- инфо...</td>\n",
              "      <td>positive</td>\n",
              "    </tr>\n",
              "    <tr>\n",
              "      <th>96</th>\n",
              "      <td>Идея нейминга для будущих проектов</td>\n",
              "      <td>positive</td>\n",
              "    </tr>\n",
              "    <tr>\n",
              "      <th>97</th>\n",
              "      <td>Кому стало интересно:</td>\n",
              "      <td>positive</td>\n",
              "    </tr>\n",
              "    <tr>\n",
              "      <th>98</th>\n",
              "      <td>Парейдолия! Бля, за три года в Тиктоке я узнал...</td>\n",
              "      <td>positive</td>\n",
              "    </tr>\n",
              "    <tr>\n",
              "      <th>99</th>\n",
              "      <td>Вы тоже не знаете, что на работе объявят насчё...</td>\n",
              "      <td>positive</td>\n",
              "    </tr>\n",
              "  </tbody>\n",
              "</table>\n",
              "<p>100 rows × 2 columns</p>\n",
              "</div>"
            ],
            "text/plain": [
              "                                               Tweets  Analysis\n",
              "0                 Лучше видео для майских выходных:\\n  positive\n",
              "1                                                Ага!  positive\n",
              "2               Найдите Говри-семиклассника на фото:   positive\n",
              "3   : _Oblomov Западные партнёры Путина, когда узн...  positive\n",
              "4   : Коррекция зрения в моем втором доме - респуб...  positive\n",
              "..                                                ...       ...\n",
              "95  Проголосовал за Мичилиту, основателя ОВД- инфо...  positive\n",
              "96               Идея нейминга для будущих проектов    positive\n",
              "97                             Кому стало интересно:   positive\n",
              "98  Парейдолия! Бля, за три года в Тиктоке я узнал...  positive\n",
              "99  Вы тоже не знаете, что на работе объявят насчё...  positive\n",
              "\n",
              "[100 rows x 2 columns]"
            ]
          },
          "metadata": {
            "tags": []
          },
          "execution_count": 141
        }
      ]
    },
    {
      "cell_type": "code",
      "metadata": {
        "id": "bVpPaZE9ZVI0"
      },
      "source": [
        "\n",
        "\n"
      ],
      "execution_count": 135,
      "outputs": []
    }
  ]
}